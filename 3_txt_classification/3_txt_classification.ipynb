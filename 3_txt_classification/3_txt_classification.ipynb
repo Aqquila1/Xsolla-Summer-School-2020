{
 "cells": [
  {
   "cell_type": "markdown",
   "metadata": {},
   "source": [
    "To-do:\n",
    "1. Текст был очищен только от одного мусорного элемента в качестве примера. Исслудйте данные через ноутбук или чере веб-интерфейс BigQuery на предмет других мусорных элементов в тексте, которые не несут в себе никакого особого смысла, а только создают шум в данных. Доработайте функцию очистки тектосвых данных, чтобы в нее можно было передать список ненужного мусора и разом выполнялась очистка\n",
    "2. Проведите стратифицировнную кросс-валидуцию нейросетевого классификатора https://scikit-learn.org/stable/modules/generated/sklearn.model_selection.StratifiedKFold.html\n",
    "3. Поэксперементируйте с гиперпараметрами нейросетевого классификатора, постарайтесь повысить качество его работы\n",
    "--------------------------------------------------------------------------------------------------------------------------------------------------------------------------------------------\n",
    "4. Попробуйте использовать не Word2Vec для получения векторого представления текста, а TF-IDF преобразование http://zabaykin.ru/?p=558 http://nlpx.net/archives/57\n",
    "5. Попробуйте использовать более тонко настриваемые алгоритмы нейросетей, например из этого видео https://www.youtube.com/watch?v=cPkH1k3U1c8 "
   ]
  },
  {
   "cell_type": "code",
   "execution_count": 1,
   "metadata": {},
   "outputs": [],
   "source": [
    "import warnings\n",
    "warnings.filterwarnings('ignore')\n",
    "\n",
    "from google.oauth2 import service_account\n",
    "import pandas_gbq \n",
    "\n",
    "import numpy as np\n",
    "import pandas as pd\n",
    "import math as mt\n",
    "import datetime as dt\n",
    "\n",
    "from langdetect import detect\n",
    "import re\n",
    "\n",
    "from sklearn.model_selection import train_test_split\n",
    "from sklearn.model_selection import cross_val_score\n",
    "from sklearn.model_selection import StratifiedKFold\n",
    "from sklearn.metrics import classification_report,confusion_matrix\n",
    "from gensim.models.word2vec import Word2Vec\n",
    "from sklearn.neural_network import MLPClassifier\n",
    "from sklearn.metrics import roc_curve,auc\n",
    "from sklearn.feature_extraction.text import TfidfVectorizer\n",
    "import matplotlib.pyplot as plt"
   ]
  },
  {
   "cell_type": "code",
   "execution_count": 2,
   "metadata": {},
   "outputs": [],
   "source": [
    "#funtion for getting fresh data from DWH for workload model\n",
    "\"\"\"[summary]\n",
    "Funtion for getting fresh data from BigQuery for workload scoring model\n",
    "[description]\n",
    "Credentials - google service account object with credentials data for project\n",
    "[example]\n",
    "Input: Credentials = credentials_object\n",
    "Output: description\t                                        channel\t category\tcategory_flag\n",
    "        \\nChat transcript:\\nVisitor: I want to buy wit...\tchat\t ps\t        1\n",
    "        \\nChat transcript:\\nVisitor: hell i had a prob...\tchat\t ps\t        1\n",
    "        \\nChat transcript:\\nVisitor: لا استطيع الشراء ...\t chat\t  ps\t     1\n",
    "\"\"\"\n",
    "\n",
    "def getDwhData(Credentials):\n",
    "    statement_bigquery_sql = \" \".join([\"select description, channel, case\",\n",
    "                                       \"when manual_category in ('payment_problem','how_to_pay','howtopay','how_to_play','paystation_error','ps_problem','ps_declined') then 'ps'\",\n",
    "                                       \"else 'other'\",\n",
    "                                       \"end as category,\",\n",
    "                                       \"case\",\n",
    "                                       \"when manual_category in ('payment_problem','how_to_pay','howtopay','how_to_play','paystation_error','ps_problem','ps_declined') then 0\",\n",
    "                                       \"else 1\",\n",
    "                                       \"end as category_flag\",\n",
    "                                       \"from `xsolla_summer_school.customer_support`\",\n",
    "                                       \"where manual_category is not null and\",\n",
    "                                       \"manual_category <> '' and\",\n",
    "                                       \"description is not null and\",\n",
    "                                       \"description <> '' and\",\n",
    "                                       \"channel is not null and\",\n",
    "                                       \"channel <> '' and\",\n",
    "                                       \"channel in ('chat','facebook')\"])\n",
    "    \n",
    "    dataframe_bigquery = pandas_gbq.read_gbq(statement_bigquery_sql,project_id='findcsystem', credentials=Credentials, dialect='standard')\n",
    "\n",
    "    return dataframe_bigquery\n",
    "\n",
    "\n",
    "\"\"\"[summary]\n",
    "Function for transform text to lower case\n",
    "[description]\n",
    "Corpus - list or array object, with text data\n",
    "[example]\n",
    "Input: Corpus = [\"Text_1\",\"Text_2\"]\n",
    "Output: [\"text_1\",\"text_2\"]\n",
    "\"\"\"\n",
    "def lowerCase(Corpus):\n",
    "    corpus = [i.lower().replace('\\n','') for i in Corpus]\n",
    "    return corpus\n",
    "\n",
    "\n",
    "\"\"\"[summary]\n",
    "Function for getting language of text\n",
    "[description]\n",
    "Corpus - list or array object, with text data\n",
    "[example]\n",
    "Input: Corpus = [\"Text_1\",\"Text_2\"]\n",
    "Output: [\"en\",\"ru\"]\n",
    "\"\"\"\n",
    "def getTextLanguage(Corpus):\n",
    "    txt_lang = []\n",
    "    for txt in Corpus:\n",
    "        try:\n",
    "            lang = detect(txt)\n",
    "            txt_lang.append(lang)\n",
    "        except:\n",
    "            lang = 'error'\n",
    "            txt_lang.append(lang)\n",
    "    \n",
    "    return txt_lang\n",
    "\n",
    "\n",
    "\"\"\"[summary]\n",
    "Function for tokenization text\n",
    "[description]\n",
    "Corpus - list or array object, with text data\n",
    "[example]\n",
    "Input: Corpus = [\"word1 word2\",\"word3 word4\"]\n",
    "Output: [[\"word1\",\"word2\"],[\"word3\",\"word4\"]]\n",
    "\"\"\"  \n",
    "def textToTokens(Corpus):\n",
    "    corpus = [i.split() for i in Corpus]\n",
    "    return corpus \n",
    "\n",
    "\n",
    "\"\"\"[summary]\n",
    "Function for clear text after garbage\n",
    "[description]\n",
    "Corpus - list or array object, with text data\n",
    "Substr - string, regular expression\n",
    "[example]\n",
    "Input: Corpus = [[\"word1\",\"word2\"],[\"word3\",\"word4\"]]\n",
    "       Substr = r'word1\n",
    "Output: [[\"word2\"],[\"word3\",\"word4\"]]\n",
    "\"\"\"  \n",
    "def clearTextAfterGarbage(Corpus, garbage_words):\n",
    "    clear_corpus = []\n",
    "    for text in Corpus:\n",
    "        clear_text = []        \n",
    "        for token in text:\n",
    "            flag = True\n",
    "            for word in garbage_words:\n",
    "                res = re.search(word, token)                \n",
    "                if res != None:\n",
    "                    flag = False                   \n",
    "            if (flag):\n",
    "                clear_text.append(token)\n",
    "        clear_corpus.append(clear_text)  \n",
    "    return clear_corpus\n",
    "\n",
    "\n",
    "\"\"\"[summary]\n",
    "Build word vector by using pre-trained Word2Vec model\n",
    "[description]\n",
    "Size - lenght of vector\n",
    "Word2Vec_Model - gensim object\n",
    "\"\"\"  \n",
    "def buildWordVector(Text,Size,Word2Vec_Model):\n",
    "    vec = np.zeros(Size).reshape((1,Size))\n",
    "    count = 0.\n",
    "\n",
    "    for word in Text:\n",
    "        try:\n",
    "            vec += Word2Vec_Model[word].reshape((1,Size))\n",
    "            count += 1.\n",
    "        except KeyError:\n",
    "            continue\n",
    "    \n",
    "    if count != 0:\n",
    "        vec /= count\n",
    "    \n",
    "    return vec"
   ]
  },
  {
   "cell_type": "markdown",
   "metadata": {},
   "source": [
    "RAWDATA "
   ]
  },
  {
   "cell_type": "code",
   "execution_count": 3,
   "metadata": {},
   "outputs": [
    {
     "name": "stderr",
     "output_type": "stream",
     "text": [
      "Downloading: 100%|███████████████████████████████████████████████████████████| 23450/23450 [00:11<00:00, 2073.51rows/s]\n"
     ]
    },
    {
     "data": {
      "text/plain": [
       "(23450, 4)"
      ]
     },
     "execution_count": 3,
     "metadata": {},
     "output_type": "execute_result"
    }
   ],
   "source": [
    "#getting data from dwh\n",
    "SupportRawDataframe = getDwhData(CREDENTIALS)\n",
    "SupportRawDataframe.shape"
   ]
  },
  {
   "cell_type": "code",
   "execution_count": 4,
   "metadata": {},
   "outputs": [
    {
     "data": {
      "text/html": [
       "<div>\n",
       "<style scoped>\n",
       "    .dataframe tbody tr th:only-of-type {\n",
       "        vertical-align: middle;\n",
       "    }\n",
       "\n",
       "    .dataframe tbody tr th {\n",
       "        vertical-align: top;\n",
       "    }\n",
       "\n",
       "    .dataframe thead th {\n",
       "        text-align: right;\n",
       "    }\n",
       "</style>\n",
       "<table border=\"1\" class=\"dataframe\">\n",
       "  <thead>\n",
       "    <tr style=\"text-align: right;\">\n",
       "      <th></th>\n",
       "      <th>description</th>\n",
       "      <th>channel</th>\n",
       "      <th>category</th>\n",
       "      <th>category_flag</th>\n",
       "    </tr>\n",
       "  </thead>\n",
       "  <tbody>\n",
       "    <tr>\n",
       "      <th>0</th>\n",
       "      <td>\\nChat transcript:\\nVisitor: I want to buy wit...</td>\n",
       "      <td>chat</td>\n",
       "      <td>ps</td>\n",
       "      <td>0</td>\n",
       "    </tr>\n",
       "    <tr>\n",
       "      <th>1</th>\n",
       "      <td>\\nChat transcript:\\nVisitor: hell i had a prob...</td>\n",
       "      <td>chat</td>\n",
       "      <td>ps</td>\n",
       "      <td>0</td>\n",
       "    </tr>\n",
       "    <tr>\n",
       "      <th>2</th>\n",
       "      <td>\\nChat transcript:\\nVisitor: لا استطيع الشراء ...</td>\n",
       "      <td>chat</td>\n",
       "      <td>ps</td>\n",
       "      <td>0</td>\n",
       "    </tr>\n",
       "    <tr>\n",
       "      <th>3</th>\n",
       "      <td>\\nChat transcript:\\nVisitor: im having trouble...</td>\n",
       "      <td>chat</td>\n",
       "      <td>ps</td>\n",
       "      <td>0</td>\n",
       "    </tr>\n",
       "    <tr>\n",
       "      <th>4</th>\n",
       "      <td>\\nChat transcript:\\nVisitor: Hi\\nAna: Hello. H...</td>\n",
       "      <td>chat</td>\n",
       "      <td>ps</td>\n",
       "      <td>0</td>\n",
       "    </tr>\n",
       "    <tr>\n",
       "      <th>5</th>\n",
       "      <td>\\nChat transcript:\\nVisitor: Здраствуйте\\nAna:...</td>\n",
       "      <td>chat</td>\n",
       "      <td>ps</td>\n",
       "      <td>0</td>\n",
       "    </tr>\n",
       "    <tr>\n",
       "      <th>6</th>\n",
       "      <td>\\nChat transcript:\\nVisitor: hello\\nVisitor: w...</td>\n",
       "      <td>chat</td>\n",
       "      <td>ps</td>\n",
       "      <td>0</td>\n",
       "    </tr>\n",
       "    <tr>\n",
       "      <th>7</th>\n",
       "      <td>\\nChat transcript:\\nVisitor: not letting me bu...</td>\n",
       "      <td>chat</td>\n",
       "      <td>ps</td>\n",
       "      <td>0</td>\n",
       "    </tr>\n",
       "    <tr>\n",
       "      <th>8</th>\n",
       "      <td>\\nChat transcript:\\nVisitor: مرحبا\\nAna: Hello...</td>\n",
       "      <td>chat</td>\n",
       "      <td>ps</td>\n",
       "      <td>0</td>\n",
       "    </tr>\n",
       "    <tr>\n",
       "      <th>9</th>\n",
       "      <td>\\nChat transcript:\\nVisitor: hi im trying to b...</td>\n",
       "      <td>chat</td>\n",
       "      <td>ps</td>\n",
       "      <td>0</td>\n",
       "    </tr>\n",
       "  </tbody>\n",
       "</table>\n",
       "</div>"
      ],
      "text/plain": [
       "                                         description channel category  \\\n",
       "0  \\nChat transcript:\\nVisitor: I want to buy wit...    chat       ps   \n",
       "1  \\nChat transcript:\\nVisitor: hell i had a prob...    chat       ps   \n",
       "2  \\nChat transcript:\\nVisitor: لا استطيع الشراء ...    chat       ps   \n",
       "3  \\nChat transcript:\\nVisitor: im having trouble...    chat       ps   \n",
       "4  \\nChat transcript:\\nVisitor: Hi\\nAna: Hello. H...    chat       ps   \n",
       "5  \\nChat transcript:\\nVisitor: Здраствуйте\\nAna:...    chat       ps   \n",
       "6  \\nChat transcript:\\nVisitor: hello\\nVisitor: w...    chat       ps   \n",
       "7  \\nChat transcript:\\nVisitor: not letting me bu...    chat       ps   \n",
       "8  \\nChat transcript:\\nVisitor: مرحبا\\nAna: Hello...    chat       ps   \n",
       "9  \\nChat transcript:\\nVisitor: hi im trying to b...    chat       ps   \n",
       "\n",
       "   category_flag  \n",
       "0              0  \n",
       "1              0  \n",
       "2              0  \n",
       "3              0  \n",
       "4              0  \n",
       "5              0  \n",
       "6              0  \n",
       "7              0  \n",
       "8              0  \n",
       "9              0  "
      ]
     },
     "execution_count": 4,
     "metadata": {},
     "output_type": "execute_result"
    }
   ],
   "source": [
    "SupportRawDataframe.head(10)"
   ]
  },
  {
   "cell_type": "code",
   "execution_count": 5,
   "metadata": {},
   "outputs": [
    {
     "data": {
      "text/html": [
       "<div>\n",
       "<style scoped>\n",
       "    .dataframe tbody tr th:only-of-type {\n",
       "        vertical-align: middle;\n",
       "    }\n",
       "\n",
       "    .dataframe tbody tr th {\n",
       "        vertical-align: top;\n",
       "    }\n",
       "\n",
       "    .dataframe thead th {\n",
       "        text-align: right;\n",
       "    }\n",
       "</style>\n",
       "<table border=\"1\" class=\"dataframe\">\n",
       "  <thead>\n",
       "    <tr style=\"text-align: right;\">\n",
       "      <th></th>\n",
       "      <th>description</th>\n",
       "      <th>channel</th>\n",
       "      <th>category</th>\n",
       "      <th>category_flag</th>\n",
       "    </tr>\n",
       "  </thead>\n",
       "  <tbody>\n",
       "    <tr>\n",
       "      <th>23440</th>\n",
       "      <td>\\nChat transcript:\\nVisitor: Hello, I bought p...</td>\n",
       "      <td>chat</td>\n",
       "      <td>other</td>\n",
       "      <td>1</td>\n",
       "    </tr>\n",
       "    <tr>\n",
       "      <th>23441</th>\n",
       "      <td>\\nChat transcript:\\nVisitor: Good day\\n\\nI acc...</td>\n",
       "      <td>facebook</td>\n",
       "      <td>other</td>\n",
       "      <td>1</td>\n",
       "    </tr>\n",
       "    <tr>\n",
       "      <th>23442</th>\n",
       "      <td>\\nChat transcript:\\nVisitor: payment not going...</td>\n",
       "      <td>chat</td>\n",
       "      <td>other</td>\n",
       "      <td>1</td>\n",
       "    </tr>\n",
       "    <tr>\n",
       "      <th>23443</th>\n",
       "      <td>\\nChat transcript:\\nVisitor: Paid for faceit s...</td>\n",
       "      <td>chat</td>\n",
       "      <td>other</td>\n",
       "      <td>1</td>\n",
       "    </tr>\n",
       "    <tr>\n",
       "      <th>23444</th>\n",
       "      <td>\\nChat transcript:\\nVisitor: Hello, I am tryin...</td>\n",
       "      <td>chat</td>\n",
       "      <td>other</td>\n",
       "      <td>1</td>\n",
       "    </tr>\n",
       "    <tr>\n",
       "      <th>23445</th>\n",
       "      <td>\\nChat transcript:\\nVisitor: Hi, i made a pruc...</td>\n",
       "      <td>chat</td>\n",
       "      <td>other</td>\n",
       "      <td>1</td>\n",
       "    </tr>\n",
       "    <tr>\n",
       "      <th>23446</th>\n",
       "      <td>\\nChat transcript:\\nVisitor: Hi, how long will...</td>\n",
       "      <td>chat</td>\n",
       "      <td>other</td>\n",
       "      <td>1</td>\n",
       "    </tr>\n",
       "    <tr>\n",
       "      <th>23447</th>\n",
       "      <td>\\nChat transcript:\\nVisitor: I bought playerun...</td>\n",
       "      <td>chat</td>\n",
       "      <td>other</td>\n",
       "      <td>1</td>\n",
       "    </tr>\n",
       "    <tr>\n",
       "      <th>23448</th>\n",
       "      <td>\\nChat transcript:\\nVisitor: Good day i took t...</td>\n",
       "      <td>chat</td>\n",
       "      <td>other</td>\n",
       "      <td>1</td>\n",
       "    </tr>\n",
       "    <tr>\n",
       "      <th>23449</th>\n",
       "      <td>\\nChat transcript:\\nVisitor: hi\\nVisitor: hell...</td>\n",
       "      <td>chat</td>\n",
       "      <td>other</td>\n",
       "      <td>1</td>\n",
       "    </tr>\n",
       "  </tbody>\n",
       "</table>\n",
       "</div>"
      ],
      "text/plain": [
       "                                             description   channel category  \\\n",
       "23440  \\nChat transcript:\\nVisitor: Hello, I bought p...      chat    other   \n",
       "23441  \\nChat transcript:\\nVisitor: Good day\\n\\nI acc...  facebook    other   \n",
       "23442  \\nChat transcript:\\nVisitor: payment not going...      chat    other   \n",
       "23443  \\nChat transcript:\\nVisitor: Paid for faceit s...      chat    other   \n",
       "23444  \\nChat transcript:\\nVisitor: Hello, I am tryin...      chat    other   \n",
       "23445  \\nChat transcript:\\nVisitor: Hi, i made a pruc...      chat    other   \n",
       "23446  \\nChat transcript:\\nVisitor: Hi, how long will...      chat    other   \n",
       "23447  \\nChat transcript:\\nVisitor: I bought playerun...      chat    other   \n",
       "23448  \\nChat transcript:\\nVisitor: Good day i took t...      chat    other   \n",
       "23449  \\nChat transcript:\\nVisitor: hi\\nVisitor: hell...      chat    other   \n",
       "\n",
       "       category_flag  \n",
       "23440              1  \n",
       "23441              1  \n",
       "23442              1  \n",
       "23443              1  \n",
       "23444              1  \n",
       "23445              1  \n",
       "23446              1  \n",
       "23447              1  \n",
       "23448              1  \n",
       "23449              1  "
      ]
     },
     "execution_count": 5,
     "metadata": {},
     "output_type": "execute_result"
    }
   ],
   "source": [
    "SupportRawDataframe.tail(10)"
   ]
  },
  {
   "cell_type": "markdown",
   "metadata": {},
   "source": [
    "DATA PREPROC"
   ]
  },
  {
   "cell_type": "code",
   "execution_count": 6,
   "metadata": {},
   "outputs": [],
   "source": [
    "#transform text to lower case\n",
    "corpus = SupportRawDataframe.description\n",
    "corpus.astype('str')\n",
    "\n",
    "corpus = lowerCase(corpus)\n",
    "\n",
    "#getting language for text corpus\n",
    "corpus_lang = getTextLanguage(corpus)"
   ]
  },
  {
   "cell_type": "code",
   "execution_count": 7,
   "metadata": {},
   "outputs": [],
   "source": [
    "#new dataframe with texts in lower case, without /n symbol and with lang for text\n",
    "SupportRawDataframe['description'] = corpus\n",
    "SupportRawDataframe['lang'] = corpus_lang"
   ]
  },
  {
   "cell_type": "code",
   "execution_count": 8,
   "metadata": {},
   "outputs": [
    {
     "data": {
      "text/html": [
       "<div>\n",
       "<style scoped>\n",
       "    .dataframe tbody tr th:only-of-type {\n",
       "        vertical-align: middle;\n",
       "    }\n",
       "\n",
       "    .dataframe tbody tr th {\n",
       "        vertical-align: top;\n",
       "    }\n",
       "\n",
       "    .dataframe thead th {\n",
       "        text-align: right;\n",
       "    }\n",
       "</style>\n",
       "<table border=\"1\" class=\"dataframe\">\n",
       "  <thead>\n",
       "    <tr style=\"text-align: right;\">\n",
       "      <th></th>\n",
       "      <th>description</th>\n",
       "      <th>channel</th>\n",
       "      <th>category</th>\n",
       "      <th>category_flag</th>\n",
       "      <th>lang</th>\n",
       "    </tr>\n",
       "  </thead>\n",
       "  <tbody>\n",
       "    <tr>\n",
       "      <th>0</th>\n",
       "      <td>chat transcript:visitor: i want to buy with pa...</td>\n",
       "      <td>chat</td>\n",
       "      <td>ps</td>\n",
       "      <td>0</td>\n",
       "      <td>en</td>\n",
       "    </tr>\n",
       "    <tr>\n",
       "      <th>1</th>\n",
       "      <td>chat transcript:visitor: hell i had a problem ...</td>\n",
       "      <td>chat</td>\n",
       "      <td>ps</td>\n",
       "      <td>0</td>\n",
       "      <td>en</td>\n",
       "    </tr>\n",
       "    <tr>\n",
       "      <th>2</th>\n",
       "      <td>chat transcript:visitor: لا استطيع الشراء ومعل...</td>\n",
       "      <td>chat</td>\n",
       "      <td>ps</td>\n",
       "      <td>0</td>\n",
       "      <td>en</td>\n",
       "    </tr>\n",
       "    <tr>\n",
       "      <th>3</th>\n",
       "      <td>chat transcript:visitor: im having trouble wit...</td>\n",
       "      <td>chat</td>\n",
       "      <td>ps</td>\n",
       "      <td>0</td>\n",
       "      <td>en</td>\n",
       "    </tr>\n",
       "    <tr>\n",
       "      <th>4</th>\n",
       "      <td>chat transcript:visitor: hiana: hello. how can...</td>\n",
       "      <td>chat</td>\n",
       "      <td>ps</td>\n",
       "      <td>0</td>\n",
       "      <td>en</td>\n",
       "    </tr>\n",
       "    <tr>\n",
       "      <th>5</th>\n",
       "      <td>chat transcript:visitor: здраствуйтеana: здрав...</td>\n",
       "      <td>chat</td>\n",
       "      <td>ps</td>\n",
       "      <td>0</td>\n",
       "      <td>ru</td>\n",
       "    </tr>\n",
       "    <tr>\n",
       "      <th>6</th>\n",
       "      <td>chat transcript:visitor: hellovisitor: why i c...</td>\n",
       "      <td>chat</td>\n",
       "      <td>ps</td>\n",
       "      <td>0</td>\n",
       "      <td>en</td>\n",
       "    </tr>\n",
       "    <tr>\n",
       "      <th>7</th>\n",
       "      <td>chat transcript:visitor: not letting me buy an...</td>\n",
       "      <td>chat</td>\n",
       "      <td>ps</td>\n",
       "      <td>0</td>\n",
       "      <td>en</td>\n",
       "    </tr>\n",
       "    <tr>\n",
       "      <th>8</th>\n",
       "      <td>chat transcript:visitor: مرحباana: hello!visit...</td>\n",
       "      <td>chat</td>\n",
       "      <td>ps</td>\n",
       "      <td>0</td>\n",
       "      <td>en</td>\n",
       "    </tr>\n",
       "    <tr>\n",
       "      <th>9</th>\n",
       "      <td>chat transcript:visitor: hi im trying to buy v...</td>\n",
       "      <td>chat</td>\n",
       "      <td>ps</td>\n",
       "      <td>0</td>\n",
       "      <td>en</td>\n",
       "    </tr>\n",
       "  </tbody>\n",
       "</table>\n",
       "</div>"
      ],
      "text/plain": [
       "                                         description channel category  \\\n",
       "0  chat transcript:visitor: i want to buy with pa...    chat       ps   \n",
       "1  chat transcript:visitor: hell i had a problem ...    chat       ps   \n",
       "2  chat transcript:visitor: لا استطيع الشراء ومعل...    chat       ps   \n",
       "3  chat transcript:visitor: im having trouble wit...    chat       ps   \n",
       "4  chat transcript:visitor: hiana: hello. how can...    chat       ps   \n",
       "5  chat transcript:visitor: здраствуйтеana: здрав...    chat       ps   \n",
       "6  chat transcript:visitor: hellovisitor: why i c...    chat       ps   \n",
       "7  chat transcript:visitor: not letting me buy an...    chat       ps   \n",
       "8  chat transcript:visitor: مرحباana: hello!visit...    chat       ps   \n",
       "9  chat transcript:visitor: hi im trying to buy v...    chat       ps   \n",
       "\n",
       "   category_flag lang  \n",
       "0              0   en  \n",
       "1              0   en  \n",
       "2              0   en  \n",
       "3              0   en  \n",
       "4              0   en  \n",
       "5              0   ru  \n",
       "6              0   en  \n",
       "7              0   en  \n",
       "8              0   en  \n",
       "9              0   en  "
      ]
     },
     "execution_count": 8,
     "metadata": {},
     "output_type": "execute_result"
    }
   ],
   "source": [
    "SupportRawDataframe.head(10)"
   ]
  },
  {
   "cell_type": "code",
   "execution_count": 9,
   "metadata": {},
   "outputs": [
    {
     "data": {
      "text/html": [
       "<div>\n",
       "<style scoped>\n",
       "    .dataframe tbody tr th:only-of-type {\n",
       "        vertical-align: middle;\n",
       "    }\n",
       "\n",
       "    .dataframe tbody tr th {\n",
       "        vertical-align: top;\n",
       "    }\n",
       "\n",
       "    .dataframe thead th {\n",
       "        text-align: right;\n",
       "    }\n",
       "</style>\n",
       "<table border=\"1\" class=\"dataframe\">\n",
       "  <thead>\n",
       "    <tr style=\"text-align: right;\">\n",
       "      <th></th>\n",
       "      <th>description</th>\n",
       "      <th>channel</th>\n",
       "      <th>category</th>\n",
       "      <th>category_flag</th>\n",
       "      <th>lang</th>\n",
       "    </tr>\n",
       "  </thead>\n",
       "  <tbody>\n",
       "    <tr>\n",
       "      <th>23440</th>\n",
       "      <td>chat transcript:visitor: hello, i bought pubg ...</td>\n",
       "      <td>chat</td>\n",
       "      <td>other</td>\n",
       "      <td>1</td>\n",
       "      <td>en</td>\n",
       "    </tr>\n",
       "    <tr>\n",
       "      <th>23441</th>\n",
       "      <td>chat transcript:visitor: good dayi accidentall...</td>\n",
       "      <td>facebook</td>\n",
       "      <td>other</td>\n",
       "      <td>1</td>\n",
       "      <td>en</td>\n",
       "    </tr>\n",
       "    <tr>\n",
       "      <th>23442</th>\n",
       "      <td>chat transcript:visitor: payment not going thr...</td>\n",
       "      <td>chat</td>\n",
       "      <td>other</td>\n",
       "      <td>1</td>\n",
       "      <td>en</td>\n",
       "    </tr>\n",
       "    <tr>\n",
       "      <th>23443</th>\n",
       "      <td>chat transcript:visitor: paid for faceit subsc...</td>\n",
       "      <td>chat</td>\n",
       "      <td>other</td>\n",
       "      <td>1</td>\n",
       "      <td>en</td>\n",
       "    </tr>\n",
       "    <tr>\n",
       "      <th>23444</th>\n",
       "      <td>chat transcript:visitor: hello, i am trying to...</td>\n",
       "      <td>chat</td>\n",
       "      <td>other</td>\n",
       "      <td>1</td>\n",
       "      <td>en</td>\n",
       "    </tr>\n",
       "    <tr>\n",
       "      <th>23445</th>\n",
       "      <td>chat transcript:visitor: hi, i made a pruchase...</td>\n",
       "      <td>chat</td>\n",
       "      <td>other</td>\n",
       "      <td>1</td>\n",
       "      <td>en</td>\n",
       "    </tr>\n",
       "    <tr>\n",
       "      <th>23446</th>\n",
       "      <td>chat transcript:visitor: hi, how long will it ...</td>\n",
       "      <td>chat</td>\n",
       "      <td>other</td>\n",
       "      <td>1</td>\n",
       "      <td>en</td>\n",
       "    </tr>\n",
       "    <tr>\n",
       "      <th>23447</th>\n",
       "      <td>chat transcript:visitor: i bought playerunknow...</td>\n",
       "      <td>chat</td>\n",
       "      <td>other</td>\n",
       "      <td>1</td>\n",
       "      <td>en</td>\n",
       "    </tr>\n",
       "    <tr>\n",
       "      <th>23448</th>\n",
       "      <td>chat transcript:visitor: good day i took the w...</td>\n",
       "      <td>chat</td>\n",
       "      <td>other</td>\n",
       "      <td>1</td>\n",
       "      <td>en</td>\n",
       "    </tr>\n",
       "    <tr>\n",
       "      <th>23449</th>\n",
       "      <td>chat transcript:visitor: hivisitor: hellovisit...</td>\n",
       "      <td>chat</td>\n",
       "      <td>other</td>\n",
       "      <td>1</td>\n",
       "      <td>en</td>\n",
       "    </tr>\n",
       "  </tbody>\n",
       "</table>\n",
       "</div>"
      ],
      "text/plain": [
       "                                             description   channel category  \\\n",
       "23440  chat transcript:visitor: hello, i bought pubg ...      chat    other   \n",
       "23441  chat transcript:visitor: good dayi accidentall...  facebook    other   \n",
       "23442  chat transcript:visitor: payment not going thr...      chat    other   \n",
       "23443  chat transcript:visitor: paid for faceit subsc...      chat    other   \n",
       "23444  chat transcript:visitor: hello, i am trying to...      chat    other   \n",
       "23445  chat transcript:visitor: hi, i made a pruchase...      chat    other   \n",
       "23446  chat transcript:visitor: hi, how long will it ...      chat    other   \n",
       "23447  chat transcript:visitor: i bought playerunknow...      chat    other   \n",
       "23448  chat transcript:visitor: good day i took the w...      chat    other   \n",
       "23449  chat transcript:visitor: hivisitor: hellovisit...      chat    other   \n",
       "\n",
       "       category_flag lang  \n",
       "23440              1   en  \n",
       "23441              1   en  \n",
       "23442              1   en  \n",
       "23443              1   en  \n",
       "23444              1   en  \n",
       "23445              1   en  \n",
       "23446              1   en  \n",
       "23447              1   en  \n",
       "23448              1   en  \n",
       "23449              1   en  "
      ]
     },
     "execution_count": 9,
     "metadata": {},
     "output_type": "execute_result"
    }
   ],
   "source": [
    "SupportRawDataframe.tail(10)"
   ]
  },
  {
   "cell_type": "code",
   "execution_count": 10,
   "metadata": {},
   "outputs": [
    {
     "data": {
      "text/html": [
       "<div>\n",
       "<style scoped>\n",
       "    .dataframe tbody tr th:only-of-type {\n",
       "        vertical-align: middle;\n",
       "    }\n",
       "\n",
       "    .dataframe tbody tr th {\n",
       "        vertical-align: top;\n",
       "    }\n",
       "\n",
       "    .dataframe thead th {\n",
       "        text-align: right;\n",
       "    }\n",
       "</style>\n",
       "<table border=\"1\" class=\"dataframe\">\n",
       "  <thead>\n",
       "    <tr style=\"text-align: right;\">\n",
       "      <th></th>\n",
       "      <th>description</th>\n",
       "      <th>channel</th>\n",
       "      <th>category</th>\n",
       "      <th>category_flag</th>\n",
       "      <th>lang</th>\n",
       "    </tr>\n",
       "  </thead>\n",
       "  <tbody>\n",
       "    <tr>\n",
       "      <th>0</th>\n",
       "      <td>chat transcript:visitor: i want to buy with pa...</td>\n",
       "      <td>chat</td>\n",
       "      <td>ps</td>\n",
       "      <td>0</td>\n",
       "      <td>en</td>\n",
       "    </tr>\n",
       "    <tr>\n",
       "      <th>1</th>\n",
       "      <td>chat transcript:visitor: hell i had a problem ...</td>\n",
       "      <td>chat</td>\n",
       "      <td>ps</td>\n",
       "      <td>0</td>\n",
       "      <td>en</td>\n",
       "    </tr>\n",
       "    <tr>\n",
       "      <th>2</th>\n",
       "      <td>chat transcript:visitor: لا استطيع الشراء ومعل...</td>\n",
       "      <td>chat</td>\n",
       "      <td>ps</td>\n",
       "      <td>0</td>\n",
       "      <td>en</td>\n",
       "    </tr>\n",
       "    <tr>\n",
       "      <th>3</th>\n",
       "      <td>chat transcript:visitor: im having trouble wit...</td>\n",
       "      <td>chat</td>\n",
       "      <td>ps</td>\n",
       "      <td>0</td>\n",
       "      <td>en</td>\n",
       "    </tr>\n",
       "    <tr>\n",
       "      <th>4</th>\n",
       "      <td>chat transcript:visitor: hiana: hello. how can...</td>\n",
       "      <td>chat</td>\n",
       "      <td>ps</td>\n",
       "      <td>0</td>\n",
       "      <td>en</td>\n",
       "    </tr>\n",
       "    <tr>\n",
       "      <th>...</th>\n",
       "      <td>...</td>\n",
       "      <td>...</td>\n",
       "      <td>...</td>\n",
       "      <td>...</td>\n",
       "      <td>...</td>\n",
       "    </tr>\n",
       "    <tr>\n",
       "      <th>23445</th>\n",
       "      <td>chat transcript:visitor: hi, i made a pruchase...</td>\n",
       "      <td>chat</td>\n",
       "      <td>other</td>\n",
       "      <td>1</td>\n",
       "      <td>en</td>\n",
       "    </tr>\n",
       "    <tr>\n",
       "      <th>23446</th>\n",
       "      <td>chat transcript:visitor: hi, how long will it ...</td>\n",
       "      <td>chat</td>\n",
       "      <td>other</td>\n",
       "      <td>1</td>\n",
       "      <td>en</td>\n",
       "    </tr>\n",
       "    <tr>\n",
       "      <th>23447</th>\n",
       "      <td>chat transcript:visitor: i bought playerunknow...</td>\n",
       "      <td>chat</td>\n",
       "      <td>other</td>\n",
       "      <td>1</td>\n",
       "      <td>en</td>\n",
       "    </tr>\n",
       "    <tr>\n",
       "      <th>23448</th>\n",
       "      <td>chat transcript:visitor: good day i took the w...</td>\n",
       "      <td>chat</td>\n",
       "      <td>other</td>\n",
       "      <td>1</td>\n",
       "      <td>en</td>\n",
       "    </tr>\n",
       "    <tr>\n",
       "      <th>23449</th>\n",
       "      <td>chat transcript:visitor: hivisitor: hellovisit...</td>\n",
       "      <td>chat</td>\n",
       "      <td>other</td>\n",
       "      <td>1</td>\n",
       "      <td>en</td>\n",
       "    </tr>\n",
       "  </tbody>\n",
       "</table>\n",
       "<p>16006 rows × 5 columns</p>\n",
       "</div>"
      ],
      "text/plain": [
       "                                             description channel category  \\\n",
       "0      chat transcript:visitor: i want to buy with pa...    chat       ps   \n",
       "1      chat transcript:visitor: hell i had a problem ...    chat       ps   \n",
       "2      chat transcript:visitor: لا استطيع الشراء ومعل...    chat       ps   \n",
       "3      chat transcript:visitor: im having trouble wit...    chat       ps   \n",
       "4      chat transcript:visitor: hiana: hello. how can...    chat       ps   \n",
       "...                                                  ...     ...      ...   \n",
       "23445  chat transcript:visitor: hi, i made a pruchase...    chat    other   \n",
       "23446  chat transcript:visitor: hi, how long will it ...    chat    other   \n",
       "23447  chat transcript:visitor: i bought playerunknow...    chat    other   \n",
       "23448  chat transcript:visitor: good day i took the w...    chat    other   \n",
       "23449  chat transcript:visitor: hivisitor: hellovisit...    chat    other   \n",
       "\n",
       "       category_flag lang  \n",
       "0                  0   en  \n",
       "1                  0   en  \n",
       "2                  0   en  \n",
       "3                  0   en  \n",
       "4                  0   en  \n",
       "...              ...  ...  \n",
       "23445              1   en  \n",
       "23446              1   en  \n",
       "23447              1   en  \n",
       "23448              1   en  \n",
       "23449              1   en  \n",
       "\n",
       "[16006 rows x 5 columns]"
      ]
     },
     "execution_count": 10,
     "metadata": {},
     "output_type": "execute_result"
    }
   ],
   "source": [
    "#getting only en texts\n",
    "SupportDataframe_eng = SupportRawDataframe[SupportRawDataframe.lang == 'en'][:]\n",
    "SupportDataframe_eng"
   ]
  },
  {
   "cell_type": "code",
   "execution_count": 11,
   "metadata": {},
   "outputs": [],
   "source": [
    "#text tekenization\n",
    "tokenization = textToTokens(SupportDataframe_eng.description)\n",
    "SupportDataframe_eng['description'] = tokenization"
   ]
  },
  {
   "cell_type": "code",
   "execution_count": 12,
   "metadata": {},
   "outputs": [
    {
     "data": {
      "text/html": [
       "<div>\n",
       "<style scoped>\n",
       "    .dataframe tbody tr th:only-of-type {\n",
       "        vertical-align: middle;\n",
       "    }\n",
       "\n",
       "    .dataframe tbody tr th {\n",
       "        vertical-align: top;\n",
       "    }\n",
       "\n",
       "    .dataframe thead th {\n",
       "        text-align: right;\n",
       "    }\n",
       "</style>\n",
       "<table border=\"1\" class=\"dataframe\">\n",
       "  <thead>\n",
       "    <tr style=\"text-align: right;\">\n",
       "      <th></th>\n",
       "      <th>description</th>\n",
       "      <th>channel</th>\n",
       "      <th>category</th>\n",
       "      <th>category_flag</th>\n",
       "      <th>lang</th>\n",
       "    </tr>\n",
       "  </thead>\n",
       "  <tbody>\n",
       "    <tr>\n",
       "      <th>0</th>\n",
       "      <td>[chat, transcript:visitor:, i, want, to, buy, ...</td>\n",
       "      <td>chat</td>\n",
       "      <td>ps</td>\n",
       "      <td>0</td>\n",
       "      <td>en</td>\n",
       "    </tr>\n",
       "    <tr>\n",
       "      <th>1</th>\n",
       "      <td>[chat, transcript:visitor:, hell, i, had, a, p...</td>\n",
       "      <td>chat</td>\n",
       "      <td>ps</td>\n",
       "      <td>0</td>\n",
       "      <td>en</td>\n",
       "    </tr>\n",
       "    <tr>\n",
       "      <th>2</th>\n",
       "      <td>[chat, transcript:visitor:, لا, استطيع, الشراء...</td>\n",
       "      <td>chat</td>\n",
       "      <td>ps</td>\n",
       "      <td>0</td>\n",
       "      <td>en</td>\n",
       "    </tr>\n",
       "    <tr>\n",
       "      <th>3</th>\n",
       "      <td>[chat, transcript:visitor:, im, having, troubl...</td>\n",
       "      <td>chat</td>\n",
       "      <td>ps</td>\n",
       "      <td>0</td>\n",
       "      <td>en</td>\n",
       "    </tr>\n",
       "    <tr>\n",
       "      <th>4</th>\n",
       "      <td>[chat, transcript:visitor:, hiana:, hello., ho...</td>\n",
       "      <td>chat</td>\n",
       "      <td>ps</td>\n",
       "      <td>0</td>\n",
       "      <td>en</td>\n",
       "    </tr>\n",
       "    <tr>\n",
       "      <th>...</th>\n",
       "      <td>...</td>\n",
       "      <td>...</td>\n",
       "      <td>...</td>\n",
       "      <td>...</td>\n",
       "      <td>...</td>\n",
       "    </tr>\n",
       "    <tr>\n",
       "      <th>23445</th>\n",
       "      <td>[chat, transcript:visitor:, hi,, i, made, a, p...</td>\n",
       "      <td>chat</td>\n",
       "      <td>other</td>\n",
       "      <td>1</td>\n",
       "      <td>en</td>\n",
       "    </tr>\n",
       "    <tr>\n",
       "      <th>23446</th>\n",
       "      <td>[chat, transcript:visitor:, hi,, how, long, wi...</td>\n",
       "      <td>chat</td>\n",
       "      <td>other</td>\n",
       "      <td>1</td>\n",
       "      <td>en</td>\n",
       "    </tr>\n",
       "    <tr>\n",
       "      <th>23447</th>\n",
       "      <td>[chat, transcript:visitor:, i, bought, playeru...</td>\n",
       "      <td>chat</td>\n",
       "      <td>other</td>\n",
       "      <td>1</td>\n",
       "      <td>en</td>\n",
       "    </tr>\n",
       "    <tr>\n",
       "      <th>23448</th>\n",
       "      <td>[chat, transcript:visitor:, good, day, i, took...</td>\n",
       "      <td>chat</td>\n",
       "      <td>other</td>\n",
       "      <td>1</td>\n",
       "      <td>en</td>\n",
       "    </tr>\n",
       "    <tr>\n",
       "      <th>23449</th>\n",
       "      <td>[chat, transcript:visitor:, hivisitor:, hellov...</td>\n",
       "      <td>chat</td>\n",
       "      <td>other</td>\n",
       "      <td>1</td>\n",
       "      <td>en</td>\n",
       "    </tr>\n",
       "  </tbody>\n",
       "</table>\n",
       "<p>16006 rows × 5 columns</p>\n",
       "</div>"
      ],
      "text/plain": [
       "                                             description channel category  \\\n",
       "0      [chat, transcript:visitor:, i, want, to, buy, ...    chat       ps   \n",
       "1      [chat, transcript:visitor:, hell, i, had, a, p...    chat       ps   \n",
       "2      [chat, transcript:visitor:, لا, استطيع, الشراء...    chat       ps   \n",
       "3      [chat, transcript:visitor:, im, having, troubl...    chat       ps   \n",
       "4      [chat, transcript:visitor:, hiana:, hello., ho...    chat       ps   \n",
       "...                                                  ...     ...      ...   \n",
       "23445  [chat, transcript:visitor:, hi,, i, made, a, p...    chat    other   \n",
       "23446  [chat, transcript:visitor:, hi,, how, long, wi...    chat    other   \n",
       "23447  [chat, transcript:visitor:, i, bought, playeru...    chat    other   \n",
       "23448  [chat, transcript:visitor:, good, day, i, took...    chat    other   \n",
       "23449  [chat, transcript:visitor:, hivisitor:, hellov...    chat    other   \n",
       "\n",
       "       category_flag lang  \n",
       "0                  0   en  \n",
       "1                  0   en  \n",
       "2                  0   en  \n",
       "3                  0   en  \n",
       "4                  0   en  \n",
       "...              ...  ...  \n",
       "23445              1   en  \n",
       "23446              1   en  \n",
       "23447              1   en  \n",
       "23448              1   en  \n",
       "23449              1   en  \n",
       "\n",
       "[16006 rows x 5 columns]"
      ]
     },
     "execution_count": 12,
     "metadata": {},
     "output_type": "execute_result"
    }
   ],
   "source": [
    "SupportDataframe_eng"
   ]
  },
  {
   "cell_type": "code",
   "execution_count": 13,
   "metadata": {},
   "outputs": [],
   "source": [
    "texts = list(SupportDataframe_eng.description)"
   ]
  },
  {
   "cell_type": "code",
   "execution_count": 14,
   "metadata": {},
   "outputs": [],
   "source": [
    "#cleaning text after garbage\n",
    "tests_clear = clearTextAfterGarbage(texts,['chat', 'visitor', 'http'])"
   ]
  },
  {
   "cell_type": "code",
   "execution_count": 15,
   "metadata": {},
   "outputs": [],
   "source": [
    "SupportDataframe_eng['description'] = tests_clear"
   ]
  },
  {
   "cell_type": "code",
   "execution_count": 16,
   "metadata": {},
   "outputs": [
    {
     "data": {
      "text/html": [
       "<div>\n",
       "<style scoped>\n",
       "    .dataframe tbody tr th:only-of-type {\n",
       "        vertical-align: middle;\n",
       "    }\n",
       "\n",
       "    .dataframe tbody tr th {\n",
       "        vertical-align: top;\n",
       "    }\n",
       "\n",
       "    .dataframe thead th {\n",
       "        text-align: right;\n",
       "    }\n",
       "</style>\n",
       "<table border=\"1\" class=\"dataframe\">\n",
       "  <thead>\n",
       "    <tr style=\"text-align: right;\">\n",
       "      <th></th>\n",
       "      <th>description</th>\n",
       "      <th>channel</th>\n",
       "      <th>category</th>\n",
       "      <th>category_flag</th>\n",
       "      <th>lang</th>\n",
       "    </tr>\n",
       "  </thead>\n",
       "  <tbody>\n",
       "    <tr>\n",
       "      <th>0</th>\n",
       "      <td>[i, want, to, buy, with, paypal, and, show, me...</td>\n",
       "      <td>chat</td>\n",
       "      <td>ps</td>\n",
       "      <td>0</td>\n",
       "      <td>en</td>\n",
       "    </tr>\n",
       "    <tr>\n",
       "      <th>1</th>\n",
       "      <td>[hell, i, had, a, problem, yesterday, about, s...</td>\n",
       "      <td>chat</td>\n",
       "      <td>ps</td>\n",
       "      <td>0</td>\n",
       "      <td>en</td>\n",
       "    </tr>\n",
       "    <tr>\n",
       "      <th>2</th>\n",
       "      <td>[لا, استطيع, الشراء, ومعلومات, الشراء, صحيحة, ...</td>\n",
       "      <td>chat</td>\n",
       "      <td>ps</td>\n",
       "      <td>0</td>\n",
       "      <td>en</td>\n",
       "    </tr>\n",
       "    <tr>\n",
       "      <th>3</th>\n",
       "      <td>[im, having, trouble, with, the, new, xsolla, ...</td>\n",
       "      <td>chat</td>\n",
       "      <td>ps</td>\n",
       "      <td>0</td>\n",
       "      <td>en</td>\n",
       "    </tr>\n",
       "    <tr>\n",
       "      <th>4</th>\n",
       "      <td>[hiana:, hello., how, can, i, help, i, can't, ...</td>\n",
       "      <td>chat</td>\n",
       "      <td>ps</td>\n",
       "      <td>0</td>\n",
       "      <td>en</td>\n",
       "    </tr>\n",
       "    <tr>\n",
       "      <th>...</th>\n",
       "      <td>...</td>\n",
       "      <td>...</td>\n",
       "      <td>...</td>\n",
       "      <td>...</td>\n",
       "      <td>...</td>\n",
       "    </tr>\n",
       "    <tr>\n",
       "      <th>23445</th>\n",
       "      <td>[hi,, i, made, a, pruchase, of, $25, dollars, ...</td>\n",
       "      <td>chat</td>\n",
       "      <td>other</td>\n",
       "      <td>1</td>\n",
       "      <td>en</td>\n",
       "    </tr>\n",
       "    <tr>\n",
       "      <th>23446</th>\n",
       "      <td>[hi,, how, long, will, it, take, my, friend, t...</td>\n",
       "      <td>chat</td>\n",
       "      <td>other</td>\n",
       "      <td>1</td>\n",
       "      <td>en</td>\n",
       "    </tr>\n",
       "    <tr>\n",
       "      <th>23447</th>\n",
       "      <td>[i, bought, playerunknowns, battlegrounds, and...</td>\n",
       "      <td>chat</td>\n",
       "      <td>other</td>\n",
       "      <td>1</td>\n",
       "      <td>en</td>\n",
       "    </tr>\n",
       "    <tr>\n",
       "      <th>23448</th>\n",
       "      <td>[good, day, i, took, the, wrong, package, i, w...</td>\n",
       "      <td>chat</td>\n",
       "      <td>other</td>\n",
       "      <td>1</td>\n",
       "      <td>en</td>\n",
       "    </tr>\n",
       "    <tr>\n",
       "      <th>23449</th>\n",
       "      <td>[me]</td>\n",
       "      <td>chat</td>\n",
       "      <td>other</td>\n",
       "      <td>1</td>\n",
       "      <td>en</td>\n",
       "    </tr>\n",
       "  </tbody>\n",
       "</table>\n",
       "<p>16006 rows × 5 columns</p>\n",
       "</div>"
      ],
      "text/plain": [
       "                                             description channel category  \\\n",
       "0      [i, want, to, buy, with, paypal, and, show, me...    chat       ps   \n",
       "1      [hell, i, had, a, problem, yesterday, about, s...    chat       ps   \n",
       "2      [لا, استطيع, الشراء, ومعلومات, الشراء, صحيحة, ...    chat       ps   \n",
       "3      [im, having, trouble, with, the, new, xsolla, ...    chat       ps   \n",
       "4      [hiana:, hello., how, can, i, help, i, can't, ...    chat       ps   \n",
       "...                                                  ...     ...      ...   \n",
       "23445  [hi,, i, made, a, pruchase, of, $25, dollars, ...    chat    other   \n",
       "23446  [hi,, how, long, will, it, take, my, friend, t...    chat    other   \n",
       "23447  [i, bought, playerunknowns, battlegrounds, and...    chat    other   \n",
       "23448  [good, day, i, took, the, wrong, package, i, w...    chat    other   \n",
       "23449                                               [me]    chat    other   \n",
       "\n",
       "       category_flag lang  \n",
       "0                  0   en  \n",
       "1                  0   en  \n",
       "2                  0   en  \n",
       "3                  0   en  \n",
       "4                  0   en  \n",
       "...              ...  ...  \n",
       "23445              1   en  \n",
       "23446              1   en  \n",
       "23447              1   en  \n",
       "23448              1   en  \n",
       "23449              1   en  \n",
       "\n",
       "[16006 rows x 5 columns]"
      ]
     },
     "execution_count": 16,
     "metadata": {},
     "output_type": "execute_result"
    }
   ],
   "source": [
    "SupportDataframe_eng"
   ]
  },
  {
   "cell_type": "markdown",
   "metadata": {},
   "source": [
    "TRAIN TEST SPLIT DATAFRAMES"
   ]
  },
  {
   "cell_type": "code",
   "execution_count": 17,
   "metadata": {},
   "outputs": [
    {
     "data": {
      "text/plain": [
       "array(['other', 'ps'], dtype=object)"
      ]
     },
     "execution_count": 17,
     "metadata": {},
     "output_type": "execute_result"
    }
   ],
   "source": [
    "#list of unique categories\n",
    "unique_categories = np.unique(SupportDataframe_eng.category)\n",
    "unique_categories"
   ]
  },
  {
   "cell_type": "code",
   "execution_count": 18,
   "metadata": {},
   "outputs": [],
   "source": [
    "descriptions = SupportDataframe_eng['description']\n",
    "categories = SupportDataframe_eng['category_flag']\n",
    "XTrain,XTest,YTrain,YTest = train_test_split(descriptions,\n",
    "                                             categories,\n",
    "                                             stratify = categories,\n",
    "                                             test_size = 0.2,\n",
    "                                             random_state = 40)"
   ]
  },
  {
   "cell_type": "markdown",
   "metadata": {},
   "source": [
    "FROM TEXTS TO VECTORS"
   ]
  },
  {
   "cell_type": "code",
   "execution_count": 19,
   "metadata": {},
   "outputs": [],
   "source": [
    "#initialize Word2Vec model for embedding words to vectors\n",
    "NDim = 100\n",
    "Imdb_w2v = Word2Vec(size = NDim,min_count = 10)\n",
    "Imdb_w2v.build_vocab(XTrain)"
   ]
  },
  {
   "cell_type": "code",
   "execution_count": 20,
   "metadata": {},
   "outputs": [
    {
     "data": {
      "text/plain": [
       "(7298270, 10982210)"
      ]
     },
     "execution_count": 20,
     "metadata": {},
     "output_type": "execute_result"
    }
   ],
   "source": [
    "Imdb_w2v.train(XTrain,total_examples = Imdb_w2v.corpus_count,epochs = Imdb_w2v.epochs)"
   ]
  },
  {
   "cell_type": "code",
   "execution_count": 21,
   "metadata": {},
   "outputs": [],
   "source": [
    "#embedding training messages to vectors for neutral classifier\n",
    "TrainVecs = np.concatenate([buildWordVector(i,NDim,Imdb_w2v) for i in XTrain])"
   ]
  },
  {
   "cell_type": "code",
   "execution_count": 22,
   "metadata": {},
   "outputs": [
    {
     "data": {
      "text/plain": [
       "array([[-1.12219907,  0.48562561,  0.3319746 , ...,  0.11285429,\n",
       "        -1.12673582, -0.22859053],\n",
       "       [-0.21647295,  0.38964777,  0.97937617, ..., -0.70177371,\n",
       "        -0.95889402, -0.60702398],\n",
       "       [-0.70451967,  0.29327949,  0.06466435, ..., -0.42909951,\n",
       "        -1.00395028,  0.04335356],\n",
       "       ...,\n",
       "       [-0.70217846,  0.60236293,  0.16207202, ..., -0.53918739,\n",
       "        -1.14635991,  0.14654016],\n",
       "       [-1.22421848,  0.76146617,  0.49516755, ..., -0.55944504,\n",
       "        -1.06362042,  0.29001326],\n",
       "       [-0.80472545,  0.50728897,  0.38160552, ..., -0.33376379,\n",
       "        -0.79044808, -0.08882147]])"
      ]
     },
     "execution_count": 22,
     "metadata": {},
     "output_type": "execute_result"
    }
   ],
   "source": [
    "TrainVecs"
   ]
  },
  {
   "cell_type": "code",
   "execution_count": 23,
   "metadata": {},
   "outputs": [
    {
     "data": {
      "text/plain": [
       "(1804163, 2722570)"
      ]
     },
     "execution_count": 23,
     "metadata": {},
     "output_type": "execute_result"
    }
   ],
   "source": [
    "Imdb_w2v.train(XTest, total_examples = Imdb_w2v.corpus_count, epochs = Imdb_w2v.epochs)"
   ]
  },
  {
   "cell_type": "code",
   "execution_count": 24,
   "metadata": {},
   "outputs": [],
   "source": [
    "TestVecs = np.concatenate([buildWordVector(i,NDim,Imdb_w2v) for i in XTest])"
   ]
  },
  {
   "cell_type": "code",
   "execution_count": 25,
   "metadata": {},
   "outputs": [
    {
     "data": {
      "text/plain": [
       "array([[-0.75093899,  0.14178529, -0.12681395, ..., -0.2698175 ,\n",
       "        -0.60743978, -0.14253571],\n",
       "       [-0.24165419,  0.26558911,  0.47479707, ..., -0.15524735,\n",
       "        -0.25099415,  0.10860169],\n",
       "       [-0.50400804,  0.24199838,  0.2300742 , ..., -0.35332359,\n",
       "        -0.40197671,  0.01563696],\n",
       "       ...,\n",
       "       [-0.41716579,  0.16388507,  0.14353131, ..., -0.02412744,\n",
       "        -0.40623411,  0.3651654 ],\n",
       "       [-0.40053297,  0.3301363 , -0.63547283, ..., -0.59685821,\n",
       "        -0.42226779,  0.59425149],\n",
       "       [-0.66410175,  0.00632217,  0.23344464, ..., -0.24905628,\n",
       "        -0.6753298 ,  0.3262664 ]])"
      ]
     },
     "execution_count": 25,
     "metadata": {},
     "output_type": "execute_result"
    }
   ],
   "source": [
    "TestVecs"
   ]
  },
  {
   "cell_type": "markdown",
   "metadata": {},
   "source": [
    "CROSSVALIDATION AND BUILD CLASSIFIER"
   ]
  },
  {
   "cell_type": "code",
   "execution_count": 26,
   "metadata": {},
   "outputs": [],
   "source": [
    "TextClassifier = MLPClassifier(hidden_layer_sizes = (20,10), max_iter = 1000, random_state = 40)"
   ]
  },
  {
   "cell_type": "code",
   "execution_count": 27,
   "metadata": {},
   "outputs": [
    {
     "name": "stdout",
     "output_type": "stream",
     "text": [
      "[0.8922296  0.89730574 0.89027724 0.88910582 0.90351563]\n",
      "0.8944868032506834\n"
     ]
    }
   ],
   "source": [
    "skf = StratifiedKFold(n_splits=5)\n",
    "Scores = cross_val_score(TextClassifier, TrainVecs, YTrain, cv = skf)\n",
    "print(Scores)\n",
    "print(np.mean(Scores))"
   ]
  },
  {
   "cell_type": "code",
   "execution_count": 28,
   "metadata": {},
   "outputs": [
    {
     "data": {
      "text/plain": [
       "MLPClassifier(activation='relu', alpha=0.0001, batch_size='auto', beta_1=0.9,\n",
       "              beta_2=0.999, early_stopping=False, epsilon=1e-08,\n",
       "              hidden_layer_sizes=(20, 10), learning_rate='constant',\n",
       "              learning_rate_init=0.001, max_fun=15000, max_iter=1000,\n",
       "              momentum=0.9, n_iter_no_change=10, nesterovs_momentum=True,\n",
       "              power_t=0.5, random_state=40, shuffle=True, solver='adam',\n",
       "              tol=0.0001, validation_fraction=0.1, verbose=False,\n",
       "              warm_start=False)"
      ]
     },
     "execution_count": 28,
     "metadata": {},
     "output_type": "execute_result"
    }
   ],
   "source": [
    "TextClassifier.fit(TrainVecs,YTrain)"
   ]
  },
  {
   "cell_type": "code",
   "execution_count": 29,
   "metadata": {
    "scrolled": true
   },
   "outputs": [
    {
     "name": "stdout",
     "output_type": "stream",
     "text": [
      "[[ 280  355]\n",
      " [ 111 2456]]\n",
      "              precision    recall  f1-score   support\n",
      "\n",
      "           0       0.72      0.44      0.55       635\n",
      "           1       0.87      0.96      0.91      2567\n",
      "\n",
      "    accuracy                           0.85      3202\n",
      "   macro avg       0.79      0.70      0.73      3202\n",
      "weighted avg       0.84      0.85      0.84      3202\n",
      "\n"
     ]
    }
   ],
   "source": [
    "pred = TextClassifier.predict(TestVecs)\n",
    "print(confusion_matrix(YTest,pred))\n",
    "print(classification_report(YTest,pred))"
   ]
  },
  {
   "cell_type": "markdown",
   "metadata": {},
   "source": [
    "LOOKING AT WRONG CLASSIFIED EXAMPLES"
   ]
  },
  {
   "cell_type": "code",
   "execution_count": 30,
   "metadata": {},
   "outputs": [
    {
     "data": {
      "text/plain": [
       "0       729\n",
       "1      5432\n",
       "2      5518\n",
       "3      4203\n",
       "4      4087\n",
       "       ... \n",
       "350     241\n",
       "351    2270\n",
       "352    4047\n",
       "353      86\n",
       "354    1165\n",
       "Name: index, Length: 355, dtype: int64"
      ]
     },
     "execution_count": 30,
     "metadata": {},
     "output_type": "execute_result"
    }
   ],
   "source": [
    "x = pd.DataFrame({'real': YTest, 'pred': pred, 'is_correct': (YTest == pred)})\n",
    "false_preds_0_indexes = x[(x['is_correct'] == False) & (x['real'] == 0)].reset_index()['index']\n",
    "false_preds_1_indexes = x[(x['is_correct'] == False) & (x['real'] == 1)].reset_index()['index']\n",
    "false_preds_0_indexes"
   ]
  },
  {
   "cell_type": "code",
   "execution_count": 31,
   "metadata": {
    "scrolled": true
   },
   "outputs": [],
   "source": [
    "false_classified_0 = SupportDataframe_eng.loc[false_preds_0_indexes]\n",
    "false_classified_1 = SupportDataframe_eng.loc[false_preds_1_indexes]"
   ]
  },
  {
   "cell_type": "code",
   "execution_count": 32,
   "metadata": {},
   "outputs": [],
   "source": [
    "all_words_0 =[]\n",
    "all_words_1 =[]\n",
    "for x in false_classified_0['description']:\n",
    "    all_words_0.extend(x)\n",
    "for z in false_classified_1['description']:\n",
    "    all_words_1.extend(z)    "
   ]
  },
  {
   "cell_type": "code",
   "execution_count": 33,
   "metadata": {},
   "outputs": [
    {
     "data": {
      "text/plain": [
       "the        2319\n",
       "to         1853\n",
       "you        1729\n",
       "i          1708\n",
       "your       1282\n",
       "a          1265\n",
       "for        1074\n",
       "payment     901\n",
       "and         825\n",
       "it          750\n",
       "this        691\n",
       "is          647\n",
       "that        638\n",
       "please      632\n",
       "be          585\n",
       "not         558\n",
       "have        515\n",
       "will        510\n",
       "can         510\n",
       "in          504\n",
       "my          494\n",
       "we          489\n",
       "on          466\n",
       "thank       448\n",
       "page        442\n",
       "new         439\n",
       "with        417\n",
       "of          416\n",
       "was         405\n",
       "url:        399\n",
       "dtype: int64"
      ]
     },
     "execution_count": 33,
     "metadata": {},
     "output_type": "execute_result"
    }
   ],
   "source": [
    "pd.Series(all_words_0).value_counts().head(30)"
   ]
  },
  {
   "cell_type": "code",
   "execution_count": 34,
   "metadata": {},
   "outputs": [
    {
     "data": {
      "text/plain": [
       "the        761\n",
       "you        700\n",
       "i          680\n",
       "to         560\n",
       "a          374\n",
       "your       342\n",
       "for        314\n",
       "and        261\n",
       "it         247\n",
       "can        240\n",
       "please     228\n",
       "payment    227\n",
       "is         223\n",
       "this       204\n",
       "that       201\n",
       "with       186\n",
       "thank      186\n",
       "url:       173\n",
       "have       173\n",
       "my         169\n",
       "will       166\n",
       "in         154\n",
       "not        149\n",
       "was        147\n",
       "be         143\n",
       "me         137\n",
       "of         135\n",
       "on         127\n",
       "we         118\n",
       "help       112\n",
       "dtype: int64"
      ]
     },
     "execution_count": 34,
     "metadata": {},
     "output_type": "execute_result"
    }
   ],
   "source": [
    "pd.Series(all_words_1).value_counts().head(30)"
   ]
  },
  {
   "cell_type": "markdown",
   "metadata": {},
   "source": [
    "FROM TEXTS TO TF-IDF"
   ]
  },
  {
   "cell_type": "code",
   "execution_count": 35,
   "metadata": {},
   "outputs": [],
   "source": [
    "def dummy_fun(doc):\n",
    "    return doc\n",
    "\n",
    "tfidf = TfidfVectorizer(\n",
    "    analyzer='word',\n",
    "    tokenizer=dummy_fun,\n",
    "    preprocessor=dummy_fun,\n",
    "    token_pattern=None)  \n",
    "TF_IDF_train = tfidf.fit_transform(XTrain)\n",
    "TF_IDF_test = tfidf.transform(XTest)"
   ]
  },
  {
   "cell_type": "markdown",
   "metadata": {},
   "source": [
    "BUILD NEW CLASSIFIER WITH TF-IDF"
   ]
  },
  {
   "cell_type": "code",
   "execution_count": 79,
   "metadata": {},
   "outputs": [],
   "source": [
    "TextClassifier2 = MLPClassifier(hidden_layer_sizes = (20,10), max_iter = 10, random_state = 40)"
   ]
  },
  {
   "cell_type": "code",
   "execution_count": 80,
   "metadata": {},
   "outputs": [],
   "source": [
    "history_model = TextClassifier2.fit(TF_IDF_train, YTrain)"
   ]
  },
  {
   "cell_type": "code",
   "execution_count": 81,
   "metadata": {},
   "outputs": [
    {
     "data": {
      "image/png": "[encoded data removed]",
      "text/plain": [
       "<Figure size 432x288 with 1 Axes>"
      ]
     },
     "metadata": {
      "needs_background": "light"
     },
     "output_type": "display_data"
    }
   ],
   "source": [
    "loss_values = history_model.loss_curve_\n",
    "plt.plot(loss_values)\n",
    "plt.show()"
   ]
  },
  {
   "cell_type": "code",
   "execution_count": 82,
   "metadata": {},
   "outputs": [
    {
     "name": "stdout",
     "output_type": "stream",
     "text": [
      "[[ 458  177]\n",
      " [  87 2480]]\n",
      "              precision    recall  f1-score   support\n",
      "\n",
      "           0       0.84      0.72      0.78       635\n",
      "           1       0.93      0.97      0.95      2567\n",
      "\n",
      "    accuracy                           0.92      3202\n",
      "   macro avg       0.89      0.84      0.86      3202\n",
      "weighted avg       0.91      0.92      0.92      3202\n",
      "\n"
     ]
    }
   ],
   "source": [
    "pred = TextClassifier2.predict(TF_IDF_test)\n",
    "print(confusion_matrix(YTest,pred))\n",
    "print(classification_report(YTest,pred))"
   ]
  }
 ],
 "metadata": {
  "kernelspec": {
   "display_name": "Python 3",
   "language": "python",
   "name": "python3"
  },
  "language_info": {
   "codemirror_mode": {
    "name": "ipython",
    "version": 3
   },
   "file_extension": ".py",
   "mimetype": "text/x-python",
   "name": "python",
   "nbconvert_exporter": "python",
   "pygments_lexer": "ipython3",
   "version": "3.8.2"
  }
 },
 "nbformat": 4,
 "nbformat_minor": 4
}
